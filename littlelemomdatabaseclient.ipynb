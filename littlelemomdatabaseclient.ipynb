{
 "cells": [
  {
   "cell_type": "code",
   "execution_count": 2,
   "id": "43c2933a",
   "metadata": {},
   "outputs": [
    {
     "name": "stdout",
     "output_type": "stream",
     "text": [
      "Python 3.10.11\n"
     ]
    }
   ],
   "source": [
    "!python --version"
   ]
  },
  {
   "cell_type": "code",
   "execution_count": 5,
   "id": "36a9b2d0",
   "metadata": {},
   "outputs": [],
   "source": [
    "connection = connector.connect(user = \"laolu\", password = \"Benguwa2003~\")"
   ]
  },
  {
   "cell_type": "code",
   "execution_count": 4,
   "id": "9da7290a",
   "metadata": {},
   "outputs": [],
   "source": [
    "import mysql.connector as connector"
   ]
  },
  {
   "cell_type": "code",
   "execution_count": 6,
   "id": "1d6839e8",
   "metadata": {},
   "outputs": [],
   "source": [
    "cursor = connection.cursor()"
   ]
  },
  {
   "cell_type": "code",
   "execution_count": 8,
   "id": "c6d5facb",
   "metadata": {},
   "outputs": [],
   "source": [
    "cursor.execute(\"SHOW DATABASES\")"
   ]
  },
  {
   "cell_type": "code",
   "execution_count": 9,
   "id": "ee6d1363",
   "metadata": {},
   "outputs": [
    {
     "name": "stdout",
     "output_type": "stream",
     "text": [
      "('badagry',)\n",
      "('classicmodels',)\n",
      "('globalsuperstore',)\n",
      "('information_schema',)\n",
      "('littlelemondb',)\n",
      "('mysql',)\n",
      "('new_schema',)\n",
      "('performance_schema',)\n",
      "('sakila',)\n",
      "('sql_hr',)\n",
      "('sql_inventory',)\n",
      "('sql_invoicing',)\n",
      "('sql_store',)\n",
      "('sys',)\n",
      "('world',)\n"
     ]
    }
   ],
   "source": [
    "for database in cursor:\n",
    "    print(database)"
   ]
  },
  {
   "cell_type": "code",
   "execution_count": 11,
   "id": "3ec92519",
   "metadata": {},
   "outputs": [],
   "source": [
    "cursor.execute(\"USE littlelemondb\")"
   ]
  },
  {
   "cell_type": "code",
   "execution_count": 12,
   "id": "d8bea5d6",
   "metadata": {},
   "outputs": [],
   "source": [
    "show_tables_query = \"SHOW tables\" \n",
    "cursor.execute(show_tables_query)"
   ]
  },
  {
   "cell_type": "code",
   "execution_count": 13,
   "id": "62e7e419",
   "metadata": {},
   "outputs": [
    {
     "name": "stdout",
     "output_type": "stream",
     "text": [
      "('bookings',)\n",
      "('customers',)\n",
      "('employee',)\n",
      "('menuitems',)\n",
      "('menus',)\n",
      "('orderdeliverystatus',)\n",
      "('orders',)\n",
      "('ordesview',)\n"
     ]
    }
   ],
   "source": [
    "for table in cursor:\n",
    "    print(table)"
   ]
  },
  {
   "cell_type": "code",
   "execution_count": 15,
   "id": "ad87884c",
   "metadata": {},
   "outputs": [],
   "source": [
    "join_query = (\"\"\" SELECT FullName, ContactNumber, Email, TotalCost FROM Customers C Join Orders O ON C.CustomerID = O.CustomerID WHERE TotalCost = 60\"\"\"\n",
    "             )\n",
    "cursor.execute(join_query)"
   ]
  },
  {
   "cell_type": "code",
   "execution_count": 16,
   "id": "608d083e",
   "metadata": {},
   "outputs": [],
   "source": [
    "results = cursor.fetchall()"
   ]
  },
  {
   "cell_type": "code",
   "execution_count": 17,
   "id": "b438ab99",
   "metadata": {},
   "outputs": [
    {
     "name": "stdout",
     "output_type": "stream",
     "text": [
      "[]\n"
     ]
    }
   ],
   "source": [
    "print(results)"
   ]
  },
  {
   "cell_type": "code",
   "execution_count": null,
   "id": "f30511d1",
   "metadata": {},
   "outputs": [],
   "source": []
  }
 ],
 "metadata": {
  "kernelspec": {
   "display_name": "Python 3 (ipykernel)",
   "language": "python",
   "name": "python3"
  },
  "language_info": {
   "codemirror_mode": {
    "name": "ipython",
    "version": 3
   },
   "file_extension": ".py",
   "mimetype": "text/x-python",
   "name": "python",
   "nbconvert_exporter": "python",
   "pygments_lexer": "ipython3",
   "version": "3.10.11"
  }
 },
 "nbformat": 4,
 "nbformat_minor": 5
}
